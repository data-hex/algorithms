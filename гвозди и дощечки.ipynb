{
 "cells": [
  {
   "cell_type": "code",
   "execution_count": 9,
   "id": "8c58cad1",
   "metadata": {},
   "outputs": [
    {
     "name": "stdout",
     "output_type": "stream",
     "text": [
      "3\n",
      "1 3\n",
      "2 5\n",
      "3 6\n",
      "[[3, 1], [5, 2], [6, 5], [7, 4]]\n",
      "1\n",
      "3\n"
     ]
    }
   ],
   "source": [
    "l = []\n",
    "for i in range(int(input())):\n",
    "    a, b = map(int, input().split())\n",
    "    l.append([b, a])\n",
    "l.sort()\n",
    "print(lst)\n",
    "output = []\n",
    "output.append(l[0][0])\n",
    "\n",
    "for i in range(len(l)):\n",
    "    if l[i][1] > output[-1]:\n",
    "        output.append(l[i][0])\n",
    "print(len(output))\n",
    "print(*output)"
   ]
  },
  {
   "cell_type": "code",
   "execution_count": null,
   "id": "b6ce81db",
   "metadata": {},
   "outputs": [],
   "source": []
  }
 ],
 "metadata": {
  "kernelspec": {
   "display_name": "Python 3 (ipykernel)",
   "language": "python",
   "name": "python3"
  },
  "language_info": {
   "codemirror_mode": {
    "name": "ipython",
    "version": 3
   },
   "file_extension": ".py",
   "mimetype": "text/x-python",
   "name": "python",
   "nbconvert_exporter": "python",
   "pygments_lexer": "ipython3",
   "version": "3.9.12"
  }
 },
 "nbformat": 4,
 "nbformat_minor": 5
}
