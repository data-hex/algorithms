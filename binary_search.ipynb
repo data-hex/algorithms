{
 "cells": [
  {
   "cell_type": "code",
   "execution_count": 9,
   "id": "99b8c841",
   "metadata": {},
   "outputs": [
    {
     "name": "stdout",
     "output_type": "stream",
     "text": [
      "5 1 5 8 12 13\n",
      "5 8 1 23 1 11\n",
      "3 1 -1 1 -1 "
     ]
    }
   ],
   "source": [
    "#variant 1\n",
    "import sys\n",
    "\n",
    "def find_pos(xs, query):\n",
    "    #Invariant: lo <= pos <= hi\n",
    "    lo, hi = 0, len(xs) - 1\n",
    "    while lo <= hi:\n",
    "        mid = (lo+hi) // 2\n",
    "        if query < xs[mid]:\n",
    "            hi = mid - 1    #[lo, mid - 1]\n",
    "        elif query >xs[mid]:\n",
    "            lo = mid + 1    #[mid + 1, hi]\n",
    "        else:\n",
    "            return mid + 1  #1-based\n",
    "    return -1\n",
    "\n",
    "def test():\n",
    "    assert find_pos([], 42) == -1\n",
    "    assert find_pos([42], 42) == 1\n",
    "    assert find_pos([42], 24) == -1\n",
    "    \n",
    "def main():      \n",
    "    xs = input().split()[1:]\n",
    "    queries = input().split()[1:]\n",
    "    for query in queries:\n",
    "        print(find_pos(xs, query), end=\" \")\n",
    "\n",
    "main()"
   ]
  },
  {
   "cell_type": "code",
   "execution_count": 10,
   "id": "34e78a2f",
   "metadata": {},
   "outputs": [
    {
     "name": "stdout",
     "output_type": "stream",
     "text": [
      "5 1 5 8 12 13\n",
      "5 8 1 23 1 11\n",
      "3 1 -1 1 -1 "
     ]
    }
   ],
   "source": [
    "#variant with library bisect\n",
    "import sys\n",
    "from bisect import bisect_left\n",
    "\n",
    "def find_pos(xs, query):\n",
    "    lo = bisect_left(xs, query)\n",
    "    # i < lo : xs[i] < query\n",
    "    # i > lo : xs[i] >=query\n",
    "    if lo< len(xs) and xs[lo] == query:\n",
    "        return lo + 1   #1-based\n",
    "    else:\n",
    "        return -1\n",
    "def main():      \n",
    "    xs = input().split()[1:]\n",
    "    queries = input().split()[1:]\n",
    "    for query in queries:\n",
    "        print(find_pos(xs, query), end=\" \")\n",
    "\n",
    "main()"
   ]
  },
  {
   "cell_type": "code",
   "execution_count": null,
   "id": "a263befc",
   "metadata": {},
   "outputs": [],
   "source": []
  }
 ],
 "metadata": {
  "kernelspec": {
   "display_name": "Python 3 (ipykernel)",
   "language": "python",
   "name": "python3"
  },
  "language_info": {
   "codemirror_mode": {
    "name": "ipython",
    "version": 3
   },
   "file_extension": ".py",
   "mimetype": "text/x-python",
   "name": "python",
   "nbconvert_exporter": "python",
   "pygments_lexer": "ipython3",
   "version": "3.9.12"
  }
 },
 "nbformat": 4,
 "nbformat_minor": 5
}
