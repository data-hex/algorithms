{
 "cells": [
  {
   "cell_type": "code",
   "execution_count": 6,
   "id": "b333225a",
   "metadata": {},
   "outputs": [
    {
     "name": "stdout",
     "output_type": "stream",
     "text": [
      "180.000\n"
     ]
    }
   ],
   "source": [
    "#var1 sorting\n",
    "\n",
    "def fractional_knapsack(capacity, values_and_weights):\n",
    "    order = [(v/w, w) for v, w in values_and_weights] #v/w - удельная ценность, w - количество предмета в наличии\n",
    "    order.sort(reverse=True)\n",
    "    acc = 0\n",
    "    for v_per_w, w in order:\n",
    "        if w < capacity:\n",
    "            acc += v_per_w * w\n",
    "            capacity -= w\n",
    "        else:\n",
    "            acc += v_per_w * capacity\n",
    "            break\n",
    "    \n",
    "    return acc\n",
    "\n",
    "def main():    \n",
    "    with open('knapsack-input.txt') as f:\n",
    "        reader = (tuple(map(int, line.split())) for line in f)\n",
    "        n, capacity = next(reader) #количество элементов и объем рюкзака\n",
    "        values_and_weights = list(reader)        \n",
    "    assert len(values_and_weights) == n\n",
    "    opt_value = fractional_knapsack(capacity, values_and_weights)\n",
    "    print(\"{:.3f}\".format(opt_value))\n",
    "    \n",
    "main()"
   ]
  },
  {
   "cell_type": "code",
   "execution_count": 8,
   "id": "e0051bf9",
   "metadata": {},
   "outputs": [
    {
     "name": "stdout",
     "output_type": "stream",
     "text": [
      "180.000\n"
     ]
    }
   ],
   "source": [
    "#var 2 binary heap\n",
    "import heapq\n",
    "\n",
    "def fractional_knapsack(capacity, values_and_weights):\n",
    "    order = [(-v/w, w) for v, w in values_and_weights] #v/w - удельная ценность, w - количество предмета в наличии\n",
    "    heapq.heapify(order)\n",
    "    \n",
    "    acc = 0\n",
    "    while order:\n",
    "        v_per_w, w = heapq.heappop(order)\n",
    "        if w < capacity:\n",
    "            acc += -v_per_w * w\n",
    "            capacity -= w\n",
    "        else:\n",
    "            acc += -v_per_w * capacity\n",
    "            break\n",
    "    return acc\n",
    "\n",
    "def main():    \n",
    "    with open('knapsack-input.txt') as f:\n",
    "        reader = (tuple(map(int, line.split())) for line in f)\n",
    "        n, capacity = next(reader) #количество элементов и объем рюкзака\n",
    "        values_and_weights = list(reader)        \n",
    "    assert len(values_and_weights) == n\n",
    "    opt_value = fractional_knapsack(capacity, values_and_weights)\n",
    "    print(\"{:.3f}\".format(opt_value))\n",
    "    \n",
    "main()"
   ]
  },
  {
   "cell_type": "code",
   "execution_count": 9,
   "id": "d43f3282",
   "metadata": {},
   "outputs": [
    {
     "name": "stdout",
     "output_type": "stream",
     "text": [
      "180.000\n"
     ]
    }
   ],
   "source": [
    "#var3 simplified version - binary heap\n",
    "import heapq\n",
    "\n",
    "def fractional_knapsack(capacity, values_and_weights):\n",
    "    order = [(-v/w, w) for v, w in values_and_weights] #v/w - удельная ценность, w - количество предмета в наличии\n",
    "    heapq.heapify(order)\n",
    "    \n",
    "    acc = 0\n",
    "    while order and capacity:\n",
    "        v_per_w, w = heapq.heappop(order)\n",
    "        can_take = min(w, capacity)\n",
    "        acc -= v_per_w * w\n",
    "        capacity -= can_take\n",
    "    return acc\n",
    "\n",
    "def main():    \n",
    "    with open('knapsack-input.txt') as f:\n",
    "        reader = (tuple(map(int, line.split())) for line in f)\n",
    "        n, capacity = next(reader) #количество элементов и объем рюкзака\n",
    "        values_and_weights = list(reader)        \n",
    "    assert len(values_and_weights) == n\n",
    "    opt_value = fractional_knapsack(capacity, values_and_weights)\n",
    "    print(\"{:.3f}\".format(opt_value))\n",
    "    \n",
    "main()\n"
   ]
  },
  {
   "cell_type": "code",
   "execution_count": null,
   "id": "7dbd3adf",
   "metadata": {},
   "outputs": [],
   "source": []
  }
 ],
 "metadata": {
  "kernelspec": {
   "display_name": "Python 3 (ipykernel)",
   "language": "python",
   "name": "python3"
  },
  "language_info": {
   "codemirror_mode": {
    "name": "ipython",
    "version": 3
   },
   "file_extension": ".py",
   "mimetype": "text/x-python",
   "name": "python",
   "nbconvert_exporter": "python",
   "pygments_lexer": "ipython3",
   "version": "3.9.12"
  }
 },
 "nbformat": 4,
 "nbformat_minor": 5
}
