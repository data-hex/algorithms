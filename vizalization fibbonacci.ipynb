{
 "cells": [
  {
   "cell_type": "code",
   "execution_count": 5,
   "id": "6fb63ee7",
   "metadata": {},
   "outputs": [],
   "source": [
    "from visualiser.visualiser import Visualiser as vs"
   ]
  },
  {
   "cell_type": "code",
   "execution_count": 7,
   "id": "ce1bb381",
   "metadata": {},
   "outputs": [
    {
     "name": "stdout",
     "output_type": "stream",
     "text": [
      "8\n",
      "Starting to make animation\n",
      "File fibonacci.png successfully written\n",
      "Writing frames....\n",
      "Writing gif...\n",
      "Saved gif fibonacci.gif successfully\n"
     ]
    }
   ],
   "source": [
    "# Decorator accepts optional arguments: ignore_args , show_argument_name, show_return_value and node_properties_kwargs\n",
    "@vs(node_properties_kwargs={\"shape\":\"record\", \"color\":\"#f57542\", \"style\":\"filled\", \"fillcolor\":\"grey\"})\n",
    "def fib(n):\n",
    "    if n <= 1:\n",
    "        return n\n",
    "    return fib(n=n - 1) + fib(n=n - 2)\n",
    "\n",
    "\n",
    "def main():\n",
    "    # Call function\n",
    "    print(fib(n=6))\n",
    "    # Save recursion tree to a file\n",
    "    vs.make_animation(\"fibonacci.gif\", delay=2)\n",
    "\n",
    "\n",
    "if __name__ == \"__main__\":\n",
    "    main()"
   ]
  },
  {
   "cell_type": "code",
   "execution_count": 15,
   "id": "11f06fcf",
   "metadata": {},
   "outputs": [
    {
     "name": "stdout",
     "output_type": "stream",
     "text": [
      "23416728348467685\n"
     ]
    }
   ],
   "source": [
    "#variant with cache\n",
    "cache = {}\n",
    "\n",
    "# Decorator accepts optional arguments: ignore_args , show_argument_name, show_return_value and node_properties_kwargs\n",
    "@vs(node_properties_kwargs={\"shape\":\"record\", \"color\":\"#f57542\", \"style\":\"filled\", \"fillcolor\":\"grey\"})\n",
    "def fib2(n): \n",
    "    assert n >= 0\n",
    "    if n not in cache:\n",
    "        cache[n] = n if n<= 1 else fib2(n - 1) + fib2(n - 2)\n",
    "    return cache[n]\n",
    "\n",
    "def main():\n",
    "    # Call function\n",
    "    print(fib2(n=80))\n",
    "    # Save recursion tree to a file\n",
    "    #vs.make_animation(\"fibonacci2.gif\", delay=2)\n",
    "\n",
    "main()"
   ]
  },
  {
   "cell_type": "code",
   "execution_count": null,
   "id": "40a3ce5f",
   "metadata": {},
   "outputs": [],
   "source": []
  }
 ],
 "metadata": {
  "kernelspec": {
   "display_name": "Python 3 (ipykernel)",
   "language": "python",
   "name": "python3"
  },
  "language_info": {
   "codemirror_mode": {
    "name": "ipython",
    "version": 3
   },
   "file_extension": ".py",
   "mimetype": "text/x-python",
   "name": "python",
   "nbconvert_exporter": "python",
   "pygments_lexer": "ipython3",
   "version": "3.9.12"
  }
 },
 "nbformat": 4,
 "nbformat_minor": 5
}
