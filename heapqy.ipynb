{
 "cells": [
  {
   "cell_type": "code",
   "execution_count": 1,
   "id": "1ff63eae",
   "metadata": {},
   "outputs": [
    {
     "name": "stdout",
     "output_type": "stream",
     "text": [
      "6\n",
      "Insert 200\n",
      "Insert 10\n",
      "ExtractMax\n",
      "200\n",
      "Insert 5\n",
      "Insert 500\n",
      "ExtractMax\n",
      "500\n"
     ]
    }
   ],
   "source": [
    "import heapq\n",
    "n = int(input())\n",
    "l = []\n",
    "for i in range(n):\n",
    "    s = input()\n",
    "    if s == 'ExtractMax':\n",
    "        print(-heapq.heappop(l))\n",
    "    else:\n",
    "        heapq.heappush(l, -1 * int(s.split()[1]))"
   ]
  },
  {
   "cell_type": "code",
   "execution_count": null,
   "id": "0a02146e",
   "metadata": {},
   "outputs": [],
   "source": []
  }
 ],
 "metadata": {
  "kernelspec": {
   "display_name": "Python 3 (ipykernel)",
   "language": "python",
   "name": "python3"
  },
  "language_info": {
   "codemirror_mode": {
    "name": "ipython",
    "version": 3
   },
   "file_extension": ".py",
   "mimetype": "text/x-python",
   "name": "python",
   "nbconvert_exporter": "python",
   "pygments_lexer": "ipython3",
   "version": "3.9.12"
  }
 },
 "nbformat": 4,
 "nbformat_minor": 5
}
