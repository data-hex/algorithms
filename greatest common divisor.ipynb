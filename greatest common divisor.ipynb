{
 "cells": [
  {
   "cell_type": "code",
   "execution_count": null,
   "id": "f50f4109",
   "metadata": {},
   "outputs": [],
   "source": [
    "# наивная версия - перебор\n",
    "def gcd1(a, b):\n",
    "    assert a >= 0 and b >= 0\n",
    "    for d in reversed(range(1, min(a, b) + 1)):\n",
    "        if a % d == b % d == 0:\n",
    "            return d\n",
    "    return 0"
   ]
  },
  {
   "cell_type": "code",
   "execution_count": null,
   "id": "979aaba9",
   "metadata": {},
   "outputs": [],
   "source": [
    "# алгоритм Евклида\n",
    "def gcd3(a, b):\n",
    "    assert a >= 0 and b >= 0\n",
    "    if a == 0 or b == 0:\n",
    "        return max(a, b)\n",
    "    elif a >= b:\n",
    "        return gcd3(a % b, b)\n",
    "    else:\n",
    "        return gcd3(a, b % a)"
   ]
  },
  {
   "cell_type": "code",
   "execution_count": null,
   "id": "f0c2ade3",
   "metadata": {},
   "outputs": [],
   "source": [
    "# улучшенный Евклид\n",
    "def gcd4(a, b):\n",
    "    assert a >= 0 and b >= 0\n",
    "    if a == 0 or b == 0:\n",
    "        return max(a, b)\n",
    "    return gcd4(b % a, a)"
   ]
  },
  {
   "cell_type": "code",
   "execution_count": null,
   "id": "271229b7",
   "metadata": {},
   "outputs": [],
   "source": [
    "def gcd5(a, b):\n",
    "    while b:\n",
    "        a, b = b, a % b\n",
    "    return a"
   ]
  }
 ],
 "metadata": {
  "kernelspec": {
   "display_name": "Python 3 (ipykernel)",
   "language": "python",
   "name": "python3"
  },
  "language_info": {
   "codemirror_mode": {
    "name": "ipython",
    "version": 3
   },
   "file_extension": ".py",
   "mimetype": "text/x-python",
   "name": "python",
   "nbconvert_exporter": "python",
   "pygments_lexer": "ipython3",
   "version": "3.9.12"
  }
 },
 "nbformat": 4,
 "nbformat_minor": 5
}
