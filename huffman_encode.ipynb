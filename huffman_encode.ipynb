{
 "cells": [
  {
   "cell_type": "code",
   "execution_count": 8,
   "id": "8ec1e724",
   "metadata": {},
   "outputs": [
    {
     "name": "stdout",
     "output_type": "stream",
     "text": [
      "abracadabra\n",
      "5 23\n",
      "a: 0\n",
      "b: 110\n",
      "c: 100\n",
      "d: 101\n",
      "r: 111\n",
      "01101110100010101101110\n"
     ]
    }
   ],
   "source": [
    "import heapq\n",
    "from collections import Counter, namedtuple\n",
    "\n",
    "class Node(namedtuple(\"Node\", ['left', 'right'])):\n",
    "    def walk(self, code, acc):\n",
    "        self.left.walk(code, acc + \"0\")\n",
    "        self.right.walk(code, acc + \"1\")\n",
    "    \n",
    "class Leaf(namedtuple(\"Leaf\", ['char'])):\n",
    "    def walk(self, code, acc):\n",
    "        code[self.char] = acc or \"0\"\n",
    "\n",
    "def huffman_encode(s):\n",
    "    h = []\n",
    "    for ch, freq in Counter(s).items():\n",
    "        h.append((freq, len(h), Leaf(ch)))\n",
    "        \n",
    "    heapq.heapify(h)\n",
    "    \n",
    "    count = len(h)\n",
    "    while len(h) > 1:\n",
    "        freq1, _count1, left = heapq.heappop(h)\n",
    "        freq2, _count2, right = heapq.heappop(h)\n",
    "        heapq.heappush(h, (freq1+freq2, count, Node(left, right)))\n",
    "        count += 1\n",
    "    \n",
    "    code = {}\n",
    "    if h:    \n",
    "        [(_freq, _count, root)] = h    \n",
    "        root.walk(code, '')\n",
    "    return code\n",
    "\n",
    "def main():\n",
    "    s = input()\n",
    "    code = huffman_encode(s)\n",
    "    encoded = \"\".join(code[ch] for ch in s)\n",
    "    print(len(code), len(encoded))\n",
    "    for ch in sorted(code):\n",
    "        print(\"{}: {}\".format(ch, code[ch]))\n",
    "    print(encoded)    \n",
    "    \n",
    "main()"
   ]
  },
  {
   "cell_type": "code",
   "execution_count": null,
   "id": "d91249ff",
   "metadata": {},
   "outputs": [],
   "source": []
  }
 ],
 "metadata": {
  "kernelspec": {
   "display_name": "Python 3 (ipykernel)",
   "language": "python",
   "name": "python3"
  },
  "language_info": {
   "codemirror_mode": {
    "name": "ipython",
    "version": 3
   },
   "file_extension": ".py",
   "mimetype": "text/x-python",
   "name": "python",
   "nbconvert_exporter": "python",
   "pygments_lexer": "ipython3",
   "version": "3.9.12"
  }
 },
 "nbformat": 4,
 "nbformat_minor": 5
}
