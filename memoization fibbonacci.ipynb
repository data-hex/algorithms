{
 "cells": [
  {
   "cell_type": "code",
   "execution_count": 4,
   "id": "8df824ea",
   "metadata": {},
   "outputs": [
    {
     "data": {
      "text/plain": [
       "23416728348467685"
      ]
     },
     "execution_count": 4,
     "metadata": {},
     "output_type": "execute_result"
    }
   ],
   "source": [
    "#своя функция\n",
    "@memo\n",
    "def fib(n):\n",
    "    if n <= 1:\n",
    "        return n\n",
    "    return fib(n=n - 1) + fib(n=n - 2)\n",
    "\n",
    "def memo(fib):\n",
    "    cache = {}\n",
    "    def inner(n):\n",
    "        if n not in cache:\n",
    "            cache[n] = fib(n)\n",
    "        return cache[n]\n",
    "    return inner\n",
    "\n",
    "fib(80)"
   ]
  },
  {
   "cell_type": "code",
   "execution_count": 5,
   "id": "53ec1dc4",
   "metadata": {},
   "outputs": [
    {
     "data": {
      "text/plain": [
       "354224848179261915075"
      ]
     },
     "execution_count": 5,
     "metadata": {},
     "output_type": "execute_result"
    }
   ],
   "source": [
    "#библиотечная функция\n",
    "from functools import lru_cache\n",
    "\n",
    "@lru_cache\n",
    "def fib(n):\n",
    "    if n <= 1:\n",
    "        return n\n",
    "    return fib(n=n - 1) + fib(n=n - 2)\n",
    "\n",
    "fib(100)"
   ]
  },
  {
   "cell_type": "code",
   "execution_count": null,
   "id": "d23dadb2",
   "metadata": {},
   "outputs": [],
   "source": []
  }
 ],
 "metadata": {
  "kernelspec": {
   "display_name": "Python 3 (ipykernel)",
   "language": "python",
   "name": "python3"
  },
  "language_info": {
   "codemirror_mode": {
    "name": "ipython",
    "version": 3
   },
   "file_extension": ".py",
   "mimetype": "text/x-python",
   "name": "python",
   "nbconvert_exporter": "python",
   "pygments_lexer": "ipython3",
   "version": "3.9.12"
  }
 },
 "nbformat": 4,
 "nbformat_minor": 5
}
